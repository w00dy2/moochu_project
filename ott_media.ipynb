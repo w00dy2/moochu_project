{
 "cells": [
  {
   "cell_type": "code",
   "execution_count": 1,
   "metadata": {},
   "outputs": [
    {
     "ename": "SyntaxError",
     "evalue": "invalid character '‘' (U+2018) (837810605.py, line 5)",
     "output_type": "error",
     "traceback": [
      "\u001b[0;36m  Cell \u001b[0;32mIn[1], line 5\u001b[0;36m\u001b[0m\n\u001b[0;31m    url = ‘https://gateway.kinolights.com/graphql’\u001b[0m\n\u001b[0m          ^\u001b[0m\n\u001b[0;31mSyntaxError\u001b[0m\u001b[0;31m:\u001b[0m invalid character '‘' (U+2018)\n"
     ]
    }
   ],
   "source": []
  },
  {
   "cell_type": "code",
   "execution_count": 1,
   "metadata": {},
   "outputs": [
    {
     "name": "stdout",
     "output_type": "stream",
     "text": [
      "Failed to fetch movie info for movie ID 84553: Expecting value: line 1 column 1 (char 0)\n",
      "Saved 11 movies\n"
     ]
    }
   ],
   "source": [
    "import requests\n",
    "from bs4 import BeautifulSoup\n",
    "import json\n",
    "\n",
    "file_path = 'Movie_Group2_IDs.json'\n",
    "\n",
    "with open(file_path, 'r', encoding='utf-8') as file:\n",
    "    data = json.load(file)\n",
    "# ott_names = ['넷플릭스', '티빙', '쿠팡플레이', '웨이브', '디즈니플러스', '왓챠', '애플티비', '네이버시리즈온', '구글무비', '유플러스', '프라임비디오', '라프텔', '시네폭스']\n",
    "    \n",
    "ott_movie_dict = {}  # OTT 이름을 키로 사용하여 영화 정보를 저장할 딕셔너리\n",
    "\n",
    "# for ott in ott_names:\n",
    "movie_ids = data  # 영화 ID를 숫자로 가져옴\n",
    "movie_info_list = []  # 영화 정보를 저장할 리스트\n",
    "\n",
    "for movie_id in movie_ids:\n",
    "    \n",
    "    try:\n",
    "        payload={\n",
    "        \"operationName\": \"QueryMainMovie\",\n",
    "        \"variables\": {\n",
    "            \"reviewsOffset\": 0,\n",
    "            \"reviewsLimit\": 3,\n",
    "            \"crewTypesByActors\": [\n",
    "                \"ACTOR_MAIN\",\n",
    "                \"ACTOR_SUPPORTING\",\n",
    "                \"ACTOR_BACKGROUND\"\n",
    "            ],\n",
    "            \"crewOffsetByActors\": 0,\n",
    "            \"crewLimitByActors\": 9,\n",
    "            \"crewTypesByStaffs\": [\n",
    "                \"DIRECTOR\",\n",
    "                \"DIRECTOR_ASSISTANT\",\n",
    "                \"PRODUCER\",\n",
    "                \"PLANNING\",\n",
    "                \"SCENARIO\",\n",
    "                \"ADAPTATION\",\n",
    "                \"ORIGINAL\",\n",
    "                \"LIGHTING\",\n",
    "                \"OST\",\n",
    "                \"EDITOR\",\n",
    "                \"SOUND\",\n",
    "                \"PRODUCTION_DESIGN\",\n",
    "                \"COSTUME_DESIGN\",\n",
    "                \"SPECIAL_EFFECTS\",\n",
    "                \"ACTION\",\n",
    "                \"DI\",\n",
    "                \"DISTRIBUTION\",\n",
    "                \"INVESTMENT\",\n",
    "                \"MAKEUP_ARTIST\",\n",
    "                \"MARKETING\",\n",
    "                \"VFX\"\n",
    "            ],\n",
    "            \"crewOffsetByStaffs\": 0,\n",
    "            \"crewLimitByStaffs\": 9,\n",
    "            \"movieId\": int(movie_id),\n",
    "            \"reviewsOrderBy\": \"LIKE\",\n",
    "            \"reviewsOrderOption\": \"DESC\",\n",
    "            \"inventoryType\": \"TITLE_MIDDLE\",\n",
    "            \"blockType\": \"USER\",\n",
    "            \"userId\": 0,\n",
    "            \"withUser\": False\n",
    "        },\n",
    "        \"query\": \"fragment FragmentMovieField on MovieOutput {\\n  id\\n  titleKr\\n  titleEn\\n  titleOri\\n  productionYear\\n  rating\\n  showTime\\n  synopsis\\n  releasedAt\\n  movieClip\\n  mediaType\\n  imdbScore\\n  rottenTomatoesScore\\n  posterImage {\\n    path\\n    __typename\\n  }\\n  posterImageUrl\\n  directors {\\n    personId\\n    name\\n    profileImageUrl\\n    profileImage {\\n      path\\n      __typename\\n    }\\n    __typename\\n  }\\n  genres\\n  nations {\\n    name\\n    __typename\\n  }\\n  reReleases {\\n    releasedAt\\n    __typename\\n  }\\n  stillCutImage {\\n    path\\n    __typename\\n  }\\n  stillCutUrl\\n  indexRating {\\n    id\\n    movieId\\n    index\\n    score\\n    greenCount\\n    redCount\\n    __typename\\n  }\\n  starRating\\n  vodOfferItems {\\n    id\\n    providerId\\n    title\\n    retailPrice\\n    monetizationType\\n    url\\n    openDate\\n    expireDate\\n    properties\\n    __typename\\n  }\\n  certifiedAt\\n  contentTheaters {\\n    id\\n    theater\\n    link\\n    isActive\\n    __typename\\n  }\\n  ...FragmentMovieCardMyStatus @include(if: $withUser)\\n  isUninterest\\n  isUserWatching(userId: $userId) @include(if: $withUser)\\n  userStarRating(userId: $userId) @include(if: $withUser) {\\n    star\\n    __typename\\n  }\\n  userReview(userId: $userId) @include(if: $withUser) {\\n    id\\n    movieId\\n    userId\\n    reviewTitle\\n    review\\n    reviewLink\\n    isPrivate\\n    isPreview\\n    hasSpoiler\\n    watchedAt {\\n      watchedAt\\n      __typename\\n    }\\n    __typename\\n  }\\n  userWatched(userId: $userId) @include(if: $withUser) {\\n    createdAt\\n    watchedAt\\n    __typename\\n  }\\n  __typename\\n}\\n\\nfragment FragmentMovieCardMyStatus on MovieOutput {\\n  isUserInterest(userId: $userId)\\n  isUserWatched(userId: $userId)\\n  userIndexRating(userId: $userId) {\\n    index\\n    __typename\\n  }\\n  __typename\\n}\\n\\nfragment FragmentReviewField on UserReviewOutput {\\n  id\\n  reviewTitle\\n  review\\n  reviewLink\\n  isPrivate\\n  isPreview\\n  hasSpoiler\\n  likeCount\\n  commentCount\\n  sharedCount\\n  viewCount\\n  deletedUserId\\n  createdAt\\n  isMyLike\\n  userIndexRating {\\n    index\\n    __typename\\n  }\\n  userStarRating {\\n    star\\n    __typename\\n  }\\n  movie {\\n    id\\n    titleKr\\n    posterImage {\\n      path\\n      __typename\\n    }\\n    posterImageUrl\\n    __typename\\n  }\\n  reviewer {\\n    id\\n    name\\n    isPremium\\n    profileImage {\\n      path\\n      __typename\\n    }\\n    profileImageUrl\\n    __typename\\n  }\\n  watchedAt {\\n    watchedAt\\n    __typename\\n  }\\n  __typename\\n}\\n\\nfragment FragmentReportsField on Report {\\n  id\\n  reviewId\\n  commentId\\n  userId\\n  reportType\\n  reportMessage\\n  createdAt\\n  __typename\\n}\\n\\nfragment FragmentBlocksField on Block {\\n  id\\n  from\\n  to\\n  blockType\\n  createdAt\\n  __typename\\n}\\n\\nfragment FragmentCrew on ContentCrewMapping {\\n  id\\n  sequence\\n  role\\n  type\\n  person {\\n    personId: id\\n    nameKr\\n    profileImageUrl\\n    profileImage {\\n      path\\n      __typename\\n    }\\n    __typename\\n  }\\n  __typename\\n}\\n\\nquery QueryMainMovie($movieId: Int!, $reviewsOffset: Int = 0, $reviewsLimit: Int = 10, $reviewsOrderBy: ReviewMoviesOrderType!, $reviewsOrderOption: OrderOptionType!, $inventoryType: InventoryType!, $blockType: BlockType!, $userId: Int!, $withUser: Boolean!, $crewTypesByActors: [CrewType!] = [ACTOR_MAIN, ACTOR_SUPPORTING, ACTOR_BACKGROUND], $crewOffsetByActors: Int = 0, $crewLimitByActors: Int = 9, $crewTypesByStaffs: [CrewType!] = [DIRECTOR, DIRECTOR_ASSISTANT, PRODUCER, PLANNING, SCENARIO, ADAPTATION, ORIGINAL, LIGHTING, OST, EDITOR, SOUND, PRODUCTION_DESIGN, COSTUME_DESIGN, SPECIAL_EFFECTS, ACTION, DI, DISTRIBUTION, INVESTMENT, MAKEUP_ARTIST, MARKETING, VFX], $crewOffsetByStaffs: Int = 0, $crewLimitByStaffs: Int = 9) {\\n  movie(movieId: $movieId) {\\n    ...FragmentMovieField\\n    __typename\\n  }\\n  actors: contentCrewsByTypes(\\n    movieId: $movieId\\n    crewTypes: $crewTypesByActors\\n    offset: $crewOffsetByActors\\n    limit: $crewLimitByActors\\n  ) {\\n    ...FragmentCrew\\n    __typename\\n  }\\n  staffs: contentCrewsByTypes(\\n    movieId: $movieId\\n    crewTypes: $crewTypesByStaffs\\n    offset: $crewOffsetByStaffs\\n    limit: $crewLimitByStaffs\\n  ) {\\n    ...FragmentCrew\\n    __typename\\n  }\\n  inventories(inventoryType: $inventoryType) {\\n    id\\n    title\\n    link\\n    linkTarget\\n    inventory\\n    inventoryImage {\\n      path\\n      __typename\\n    }\\n    imageMobileUrl\\n    __typename\\n  }\\n  articlesByMovieId(movieId: $movieId) {\\n    id\\n    title\\n    headline\\n    permalink\\n    category\\n    summary\\n    providerIds\\n    isMain\\n    mappedMovies {\\n      titleKr\\n      isMain\\n      __typename\\n    }\\n    listImage {\\n      path\\n      __typename\\n    }\\n    __typename\\n  }\\n  reviews(\\n    offset: $reviewsOffset\\n    limit: $reviewsLimit\\n    movieId: $movieId\\n    orderBy: $reviewsOrderBy\\n    orderOption: $reviewsOrderOption\\n  ) {\\n    ...FragmentReviewField\\n    __typename\\n  }\\n  reviewsCount(movieId: $movieId)\\n  reports @include(if: $withUser) {\\n    ...FragmentReportsField\\n    __typename\\n  }\\n  blocks(blockType: $blockType) @include(if: $withUser) {\\n    ...FragmentBlocksField\\n    __typename\\n  }\\n}\\n\"\n",
    "        }\n",
    "        \n",
    "        headers = {\n",
    "        \"Content-Type\": \"application/json\",\n",
    "        \"Authorization\": \"Bearer your_token\",  # your_token을 실제 토큰 값으로 변경하세요.\n",
    "        \"User-Agent\": \"Mozilla/5.0\"  # 필요한 경우 원하는 User-Agent 값을 설정하세요.\n",
    "        }\n",
    "        \n",
    "        url='https://gateway.kinolights.com/graphql'\n",
    "        r=requests.post(url,json=payload,headers=headers)\n",
    "        movie_data=r.json()['data']['movie']\n",
    "\n",
    "        moviesmall={}\n",
    "        movie_data = r.json()['data']['movie']\n",
    "        moviesmall['id'] = movie_data['id']\n",
    "        moviesmall['title_kr'] = movie_data['titleKr']\n",
    "        moviesmall['title_En'] = movie_data['titleEn']\n",
    "        moviesmall['directors'] = [director for director in movie_data['directors']]\n",
    "        moviesmall['nations'] = [nation for nation in movie_data['nations']]\n",
    "        moviesmall['released_At'] = movie_data['releasedAt']\n",
    "        moviesmall['synopsis'] = movie_data['synopsis']\n",
    "        moviesmall['media_type'] = movie_data['mediaType']\n",
    "        moviesmall['poster_image_url'] = movie_data['posterImage']['path']\n",
    "        moviesmall['genres'] = movie_data['genres']\n",
    "        moviesmall['rating'] = movie_data['rating']\n",
    "    #     'rating':rating\n",
    "        # }\n",
    "        \n",
    "        movie_info_list.append(moviesmall)\n",
    "    except Exception as e:\n",
    "        print(f\"Failed to fetch movie info for movie ID {movie_id}: {e}\")\n",
    "        continue\n",
    "    \n",
    "# 영화 정보를 JSON 파일로 저장\n",
    "filename = 'Movie2.json'\n",
    "with open(filename, 'w', encoding='utf-8') as f:\n",
    "    json.dump(movie_info_list, f, indent=2, ensure_ascii=False)\n",
    "\n",
    "print(f'Saved {len(moviesmall)} movies')\n"
   ]
  },
  {
   "cell_type": "code",
   "execution_count": 3,
   "metadata": {},
   "outputs": [
    {
     "data": {
      "text/plain": [
       "{'errors': [{'message': 'Bad Request Exception',\n",
       "   'extensions': {'code': 'BAD_USER_INPUT',\n",
       "    'serviceName': 'api-server',\n",
       "    'response': {'statusCode': 400,\n",
       "     'message': ['offset은 1000을 초과할 수 없습니다.'],\n",
       "     'error': 'Bad Request'},\n",
       "    'exception': {'message': 'Bad Request Exception'}}}],\n",
       " 'data': None}"
      ]
     },
     "execution_count": 3,
     "metadata": {},
     "output_type": "execute_result"
    }
   ],
   "source": [
    "data"
   ]
  },
  {
   "cell_type": "code",
   "execution_count": null,
   "metadata": {},
   "outputs": [],
   "source": []
  }
 ],
 "metadata": {
  "kernelspec": {
   "display_name": "base",
   "language": "python",
   "name": "python3"
  },
  "language_info": {
   "codemirror_mode": {
    "name": "ipython",
    "version": 3
   },
   "file_extension": ".py",
   "mimetype": "text/x-python",
   "name": "python",
   "nbconvert_exporter": "python",
   "pygments_lexer": "ipython3",
   "version": "3.10.9"
  },
  "orig_nbformat": 4
 },
 "nbformat": 4,
 "nbformat_minor": 2
}
